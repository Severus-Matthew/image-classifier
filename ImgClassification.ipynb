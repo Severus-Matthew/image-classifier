#importing libraries
import tensorflow as tf
from keras.preprocessing.image import ImageDataGenerator
from keras.models import Sequential
from keras.layers import Activation, Dropout, Flatten, Dense
from keras import backend as K
from keras.preprocessing import image
import numpy as np
from zipfile import ZipFile

# dimensions of input images.
img_wid, img_hght = 150, 150

#defining the datasets
with ZipFile('dataset2.zip' , 'r') as datas:
    datas.extractall()
    
train_data= 'datas/train'
validation_data= 'datas/validation'
training_sample= 400
validation_sample= 100
epochs=40
batch_size=10

#sizing the image
if K.image_data_format() == 'channels_first':
    input_shape = (3, img_wid, img_hght)
else:
    input_shape = (img_wid, img_hght, 3)
    
#defining model
model = tf.keras.models.Sequential([tf.keras.layers.Flatten(), 
                                    tf.keras.layers.Dense(128, activation=tf.nn.relu), 
                                    tf.keras.layers.Dense(64, activation=tf.nn.relu),
                                    tf.keras.layers.Dense(2, activation=tf.nn.sigmoid)])
                                    
#defining the optimizer and metrics
model.compile(optimizer = tf.optimizers.Adam(),
              loss = 'sparse_categorical_crossentropy',
              metrics=['accuracy'])
              
# augmentation configuration -- training
train_data = ImageDataGenerator(
    rescale=1. / 255,
    shear_range=0.2,
    zoom_range=0.2,
    horizontal_flip=True)

# augmentation configuration -- testing:
# only rescaling
test_data = ImageDataGenerator(rescale=1. / 255)

train_generator = train_data.flow_from_directory(
    train_data,
    target_size=(img_wid, img_hght),
    batch_size=10,
    class_mode='binary')

validation_generator = test_data.flow_from_directory(
    validation_data,
    target_size=(img_wid, img_hght),
    batch_size=batch_size,
    class_mode='binary')

model.fit_generator(
    train_generator,
    steps_per_epoch=training_sample // batch_size,
    epochs=epochs,
    validation_data=validation_generator,
    validation_steps=validation_sample // batch_size)
    
#testing model
pred= image.load_img('datas/test/2.jpg', target_size=(150,150))
pred=image.img_to_array(pred)
pred= np.expand_dims(pred, axis=0)
result= model.predict(pred)
print(result)

if (result[0][0]==1):
    answer='Cloudy'
if else result[0][1]==1 :
    answer='Rainy'
if else result[1][0]==1 :
    answer='Shine'
else result[1][1]==1 :
    answer='Sunrise'
print("The wheather is",answer)
